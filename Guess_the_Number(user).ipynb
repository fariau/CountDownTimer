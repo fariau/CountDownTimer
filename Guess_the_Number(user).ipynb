{
  "nbformat": 4,
  "nbformat_minor": 0,
  "metadata": {
    "colab": {
      "provenance": [],
      "authorship_tag": "ABX9TyNTJHnkPrjaC+B7eIc6p2WX",
      "include_colab_link": true
    },
    "kernelspec": {
      "name": "python3",
      "display_name": "Python 3"
    },
    "language_info": {
      "name": "python"
    }
  },
  "cells": [
    {
      "cell_type": "markdown",
      "metadata": {
        "id": "view-in-github",
        "colab_type": "text"
      },
      "source": [
        "<a href=\"https://colab.research.google.com/github/fariau/CountDownTimer/blob/main/Guess_the_Number(user).ipynb\" target=\"_parent\"><img src=\"https://colab.research.google.com/assets/colab-badge.svg\" alt=\"Open In Colab\"/></a>"
      ]
    },
    {
      "cell_type": "code",
      "execution_count": null,
      "metadata": {
        "colab": {
          "base_uri": "https://localhost:8080/"
        },
        "id": "bs2OB_sGnfw6",
        "outputId": "89caa287-3692-4a1e-b235-27cb94b534d3"
      },
      "outputs": [
        {
          "output_type": "stream",
          "name": "stdout",
          "text": [
            "Guess the number between 1 to 10!\n",
            "Enter your guess number:5\n",
            "To low number!\n",
            "Enter your guess number:8\n",
            "To low number!\n",
            "Enter your guess number:3\n",
            "To low number!\n",
            "Enter your guess number:1\n",
            "To low number!\n",
            "Enter your guess number:9\n",
            "Congratulation you got it digit\n"
          ]
        }
      ],
      "source": [
        "import random\n",
        "print(\"Guess the number between 1 to 10!\")\n",
        "number = random.randint(1, 10)\n",
        "\n",
        "while True:\n",
        "    guess = int(input(\"Enter your guess number:\"))\n",
        "    if guess < number :\n",
        "        print(\"To low number!\")\n",
        "    elif guess > number:\n",
        "        print(\"To high number!\")\n",
        "    else:\n",
        "        print(\"Congratulation you got it digit\")\n",
        "        break"
      ]
    }
  ]
}